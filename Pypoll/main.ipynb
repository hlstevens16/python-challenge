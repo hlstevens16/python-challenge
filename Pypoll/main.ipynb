{
 "cells": [
  {
   "cell_type": "code",
   "execution_count": 1,
   "metadata": {},
   "outputs": [],
   "source": [
    "#create file paths across operating systems\n",
    "import os\n",
    "\n",
    "#module for reading csv files\n",
    "import csv\n",
    "\n",
    "election_csv = os.path.join('Resources', 'election_data.csv')"
   ]
  },
  {
   "cell_type": "code",
   "execution_count": 2,
   "metadata": {},
   "outputs": [],
   "source": [
    "#read using csv module\n",
    "with open(election_csv, 'r') as csvfile:\n",
    "    csvreader = csv.reader(csvfile, delimiter = ',')\n",
    "    \n",
    "    #pull out column names and store data in lists\n",
    "    csv_header = next(csvreader)\n",
    "    \n",
    "    votes = []\n",
    "    candidates = []\n",
    "    \n",
    "    #read each row of data and append\n",
    "    for row in csvreader:\n",
    "        votes.append(row[0])\n",
    "        candidates.append(row[2])"
   ]
  },
  {
   "cell_type": "code",
   "execution_count": 3,
   "metadata": {},
   "outputs": [
    {
     "name": "stdout",
     "output_type": "stream",
     "text": [
      "Total votes:3521001\n"
     ]
    }
   ],
   "source": [
    "#total number of votes cast\n",
    "total_votes = len(votes)\n",
    "print(f\"Total votes:{total_votes}\")"
   ]
  },
  {
   "cell_type": "code",
   "execution_count": 4,
   "metadata": {},
   "outputs": [
    {
     "name": "stdout",
     "output_type": "stream",
     "text": [
      "List of candidates who received votes: {'Khan', \"O'Tooley\", 'Correy', 'Li'}\n"
     ]
    }
   ],
   "source": [
    "#complete list of candidates who received votes\n",
    "print(f\"List of candidates who received votes: {set(candidates)}\")"
   ]
  },
  {
   "cell_type": "code",
   "execution_count": 5,
   "metadata": {},
   "outputs": [
    {
     "name": "stdout",
     "output_type": "stream",
     "text": [
      "Li:14.000% 492940\n",
      "O'Tooley:3.000% 105630\n",
      "Khan:63.000% 2218231\n",
      "Correy:20.000% 704200\n"
     ]
    }
   ],
   "source": [
    "#total number of votes and percentage of votes for each candidate\n",
    "li_votes = candidates.count(\"Li\")\n",
    "otooley_votes = candidates.count(\"O'Tooley\")\n",
    "khan_votes = candidates.count(\"Khan\")\n",
    "correy_votes = candidates.count(\"Correy\")\n",
    "\n",
    "li_percent = (int(li_votes)/ int(total_votes))* 100\n",
    "otooley_percent = (int(otooley_votes)/ int(total_votes))* 100\n",
    "khan_percent = (int(khan_votes)/ int(total_votes))* 100\n",
    "correy_percent = (int(correy_votes) / int(total_votes))* 100\n",
    "\n",
    "print(f\"Li:{li_percent:.3f}% {li_votes}\")\n",
    "print(f\"O'Tooley:{otooley_percent:.3f}% {otooley_votes}\")\n",
    "print(f\"Khan:{khan_percent:.3f}% {khan_votes}\")\n",
    "print(f\"Correy:{correy_percent:.3f}% {correy_votes}\")"
   ]
  },
  {
   "cell_type": "code",
   "execution_count": 6,
   "metadata": {
    "scrolled": false
   },
   "outputs": [
    {
     "name": "stdout",
     "output_type": "stream",
     "text": [
      "Winner: Khan\n"
     ]
    }
   ],
   "source": [
    "print(\"Winner: Khan\")"
   ]
  },
  {
   "cell_type": "code",
   "execution_count": 7,
   "metadata": {},
   "outputs": [],
   "source": [
    "final_script = os.path.join('Analysis', 'Pypoll_results.csv')\n",
    "\n",
    "with open(final_script, 'w') as csvfile:\n",
    "    csvfile.write(\"Election Results\\n\")\n",
    "    csvfile.write(\"-----------------------\\n\")\n",
    "    csvfile.write(f\"Total votes:{total_votes}\\n\")\n",
    "    csvfile.write(\"-----------------------\\n\")\n",
    "    csvfile.write(f\"Li:{li_percent:.3f}% {li_votes}\\n\")\n",
    "    csvfile.write(f\"Khan:{khan_percent:.3f}% {khan_votes}\\n\")\n",
    "    csvfile.write(f\"Correy:{correy_percent:.3f}% {correy_votes}\\n\")\n",
    "    csvfile.write(f\"O'Tooley:{otooley_percent:.3f}% {otooley_votes}\\n\")\n",
    "    csvfile.write(\"-----------------------\\n\")\n",
    "    csvfile.write(\"Winner: Khan\\n\")\n",
    "    csvfile.write(\"-----------------------\\n\")"
   ]
  },
  {
   "cell_type": "code",
   "execution_count": null,
   "metadata": {},
   "outputs": [],
   "source": []
  }
 ],
 "metadata": {
  "kernelspec": {
   "display_name": "Python 3",
   "language": "python",
   "name": "python3"
  },
  "language_info": {
   "codemirror_mode": {
    "name": "ipython",
    "version": 3
   },
   "file_extension": ".py",
   "mimetype": "text/x-python",
   "name": "python",
   "nbconvert_exporter": "python",
   "pygments_lexer": "ipython3",
   "version": "3.7.6"
  }
 },
 "nbformat": 4,
 "nbformat_minor": 4
}
