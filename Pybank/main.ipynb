{
 "cells": [
  {
   "cell_type": "code",
   "execution_count": 1,
   "metadata": {},
   "outputs": [],
   "source": [
    "#create file paths across operating systems\n",
    "import os\n",
    "\n",
    "#module for reading csv files\n",
    "import csv\n",
    "\n",
    "budget_csv = os.path.join('Resources', 'budget_data.csv')"
   ]
  },
  {
   "cell_type": "code",
   "execution_count": 2,
   "metadata": {},
   "outputs": [
    {
     "name": "stdout",
     "output_type": "stream",
     "text": [
      "Total Months:86\n"
     ]
    }
   ],
   "source": [
    "#read using csv module\n",
    "with open(budget_csv, 'r') as csvfile:\n",
    "    csvreader = csv.reader(csvfile, delimiter = ',')\n",
    "    \n",
    "    #pull out column names and store data in lists\n",
    "    csv_header = next(csvreader)\n",
    "    \n",
    "    month = []\n",
    "    profit_loss = []\n",
    "    profit_loss_change = []\n",
    "    monthly_change = []\n",
    "    \n",
    "    #read each row of data and append\n",
    "    for row in csvreader:\n",
    "        month.append(row[0])\n",
    "        profit_loss.append(row[1])\n",
    "    print(f\"Total Months:{len(month)}\")"
   ]
  },
  {
   "cell_type": "code",
   "execution_count": 3,
   "metadata": {},
   "outputs": [
    {
     "name": "stdout",
     "output_type": "stream",
     "text": [
      "Net Total Profit/Losses:$38,382,578\n"
     ]
    }
   ],
   "source": [
    "profit_loss_int = map(int,profit_loss)\n",
    "net_total = sum(profit_loss_int)\n",
    "print(f\"Net Total Profit/Losses:${net_total:,}\")"
   ]
  },
  {
   "cell_type": "code",
   "execution_count": 4,
   "metadata": {},
   "outputs": [
    {
     "name": "stdout",
     "output_type": "stream",
     "text": [
      "Monthly average change in Profit/Losses:$-2,315.12\n"
     ]
    }
   ],
   "source": [
    "x = 0\n",
    "for x in range(len(profit_loss) - 1):\n",
    "    change = int(profit_loss[x+1]) - int(profit_loss[x])\n",
    "    profit_loss_change.append(change)\n",
    "    total_change = sum(profit_loss_change)\n",
    "    monthly_change = total_change/len(profit_loss_change) \n",
    "print(f\"Monthly average change in Profit/Losses:${monthly_change:,.2f}\")"
   ]
  },
  {
   "cell_type": "code",
   "execution_count": 5,
   "metadata": {},
   "outputs": [
    {
     "name": "stdout",
     "output_type": "stream",
     "text": [
      "Greatest Increase in Profits: Month - Feb-2012, Amount - $1,926,159\n"
     ]
    }
   ],
   "source": [
    "greatest_increase = max(profit_loss_change)\n",
    "y = profit_loss_change.index(greatest_increase)\n",
    "increase_month = month[y+1]\n",
    "print(f\"Greatest Increase in Profits: Month - {increase_month}, Amount - ${greatest_increase:,}\")"
   ]
  },
  {
   "cell_type": "code",
   "execution_count": 6,
   "metadata": {},
   "outputs": [
    {
     "name": "stdout",
     "output_type": "stream",
     "text": [
      "Greatest Decrease in Profits: Month - Sep-2013, Amount - $-2,196,167\n"
     ]
    }
   ],
   "source": [
    "greatest_decrease = min(profit_loss_change)\n",
    "y = profit_loss_change.index(greatest_decrease)\n",
    "decrease_month = month[y+1]\n",
    "print(f\"Greatest Decrease in Profits: Month - {decrease_month}, Amount - ${greatest_decrease:,}\")"
   ]
  },
  {
   "cell_type": "code",
   "execution_count": 7,
   "metadata": {},
   "outputs": [],
   "source": [
    "final_script = os.path.join('Analysis', 'Pybank_results.csv')\n",
    "\n",
    "with open(final_script, 'w') as csvfile:\n",
    "    csvfile.write(\"Financial Analysis\\n\")\n",
    "    csvfile.write(\"-----------------------\\n\")\n",
    "    csvfile.write(f\"Total Months:{len(month)}\\n\")\n",
    "    csvfile.write(f\"Net Total Profit/Losses:${net_total:,}\\n\")\n",
    "    csvfile.write(f\"Monthly average change in Profit/Losses:${monthly_change:,.2f}\\n\")\n",
    "    csvfile.write(f\"Greatest Increase in Profits: Month - {increase_month}, Amount - ${greatest_increase:,}\\n\")\n",
    "    csvfile.write(f\"Greatest Decrease in Profits: Month - {decrease_month}, Amount - ${greatest_decrease:,}\\n\")"
   ]
  }
 ],
 "metadata": {
  "kernelspec": {
   "display_name": "Python 3",
   "language": "python",
   "name": "python3"
  },
  "language_info": {
   "codemirror_mode": {
    "name": "ipython",
    "version": 3
   },
   "file_extension": ".py",
   "mimetype": "text/x-python",
   "name": "python",
   "nbconvert_exporter": "python",
   "pygments_lexer": "ipython3",
   "version": "3.7.6"
  }
 },
 "nbformat": 4,
 "nbformat_minor": 4
}
